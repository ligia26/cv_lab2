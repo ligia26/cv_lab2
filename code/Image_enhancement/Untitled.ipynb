{
 "cells": [
  {
   "cell_type": "code",
   "execution_count": 22,
   "metadata": {},
   "outputs": [],
   "source": [
    "from math import sqrt\n",
    "from scipy import signal\n",
    "import numpy as np\n",
    "\n",
    "def compute_gradient(image):\n",
    "    filter1 = np.array([[-1, 0, 1], [-2, 0, 2], [-1, 0, 1]])\n",
    "    filter2 = np.array([[1,2,1], [0,0,0], [-1,-2,-1]])\n",
    "    Gx = signal.convolve2d(image, filter1)\n",
    "    Gy = signal.convolve2d(image, filter2)\n",
    "    im_magnitude = np.sqrt(Gx**2+Gy**2)\n",
    "    im_direction = (np.tan(Gx/Gy))**(-1)                   \n",
    "    return Gx, Gy, im_magnitude,im_direction"
   ]
  },
  {
   "cell_type": "code",
   "execution_count": 23,
   "metadata": {},
   "outputs": [
    {
     "name": "stdout",
     "output_type": "stream",
     "text": [
      "(533, 800, 3)\n",
      "(533, 800)\n"
     ]
    }
   ],
   "source": [
    "import cv2\n",
    "img = cv2.imread('./images/image2.jpg')\n",
    "print(img.shape)\n",
    "img = np.mean(img, axis=2)\n",
    "print(img.shape)"
   ]
  },
  {
   "cell_type": "code",
   "execution_count": 24,
   "metadata": {},
   "outputs": [
    {
     "name": "stderr",
     "output_type": "stream",
     "text": [
      "<ipython-input-22-18d1f5be395c>:11: RuntimeWarning: divide by zero encountered in true_divide\n",
      "  im_direction = (np.tan(Gx/Gy))**(-1)\n",
      "<ipython-input-22-18d1f5be395c>:11: RuntimeWarning: invalid value encountered in true_divide\n",
      "  im_direction = (np.tan(Gx/Gy))**(-1)\n",
      "<ipython-input-22-18d1f5be395c>:11: RuntimeWarning: invalid value encountered in tan\n",
      "  im_direction = (np.tan(Gx/Gy))**(-1)\n",
      "<ipython-input-22-18d1f5be395c>:11: RuntimeWarning: divide by zero encountered in reciprocal\n",
      "  im_direction = (np.tan(Gx/Gy))**(-1)\n"
     ]
    },
    {
     "data": {
      "text/plain": [
       "(array([[-203., -208.,   -4., ...,    0.,  236.,  236.],\n",
       "        [-609., -620.,   -8., ...,    0.,  708.,  708.],\n",
       "        [-813., -816.,    0., ...,    0.,  944.,  944.],\n",
       "        ...,\n",
       "        [-513., -506.,   47., ...,   15.,  877.,  869.],\n",
       "        [-463., -454.,   69., ...,   14.,  655.,  649.],\n",
       "        [-170., -166.,   31., ...,    5.,  218.,  216.]]),\n",
       " array([[ 203.,  614.,  826., ...,  944.,  708.,  236.],\n",
       "        [ 203.,  610.,  814., ...,  944.,  708.,  236.],\n",
       "        [   1.,   -6.,  -22., ...,    0.,    0.,    0.],\n",
       "        ...,\n",
       "        [  73.,  216.,  257., ...,   -9.,   -9.,   -3.],\n",
       "        [-123., -368., -483., ..., -876., -653., -217.],\n",
       "        [-170., -506., -641., ..., -873., -650., -216.]]),\n",
       " array([[ 287.08535316,  648.27463316,  826.00968517, ...,  944.        ,\n",
       "          746.2975278 ,  333.75440072],\n",
       "        [ 641.94236501,  869.77008456,  814.03931109, ...,  944.        ,\n",
       "         1001.26320216,  746.2975278 ],\n",
       "        [ 813.00061501,  816.02205853,   22.        , ...,    0.        ,\n",
       "          944.        ,  944.        ],\n",
       "        ...,\n",
       "        [ 518.16792645,  550.17451777,  261.26232028, ...,   17.49285568,\n",
       "          877.04617894,  869.00517835],\n",
       "        [ 479.05949526,  584.41423665,  487.90367902, ...,  876.111865  ,\n",
       "          924.89675099,  684.31717792],\n",
       "        [ 240.4163056 ,  532.53356702,  641.74917218, ...,  873.01431832,\n",
       "          685.58296362,  305.47012947]]),\n",
       " array([[-6.42092616e-01, -2.83812887e+00, -2.06498386e+02, ...,\n",
       "                     inf,  2.88805704e+00,  6.42092616e-01],\n",
       "        [ 7.01525255e+00, -6.19179569e-01, -1.01746724e+02, ...,\n",
       "                     inf,  6.42092616e-01, -7.01525255e+00],\n",
       "        [ 1.25576556e+00,  7.74952563e-01,            -inf, ...,\n",
       "                     nan,             nan,             nan],\n",
       "        ...,\n",
       "        [-1.08596146e+00,  9.73159629e-01,  5.40698896e+00, ...,\n",
       "          9.61651424e-02, -1.81396261e+01, -1.34270470e+00],\n",
       "        [ 1.39296240e+00,  3.50478094e-01, -6.95231604e+00, ...,\n",
       "         -6.25661012e+01, -6.37775570e-01,  6.58054715e+00],\n",
       "        [ 6.42092616e-01,  2.93804561e+00, -2.06612962e+01, ...,\n",
       "         -1.74598091e+02, -2.86900909e+00, -6.42092616e-01]]))"
      ]
     },
     "execution_count": 24,
     "metadata": {},
     "output_type": "execute_result"
    }
   ],
   "source": [
    "compute_gradient(img)"
   ]
  },
  {
   "cell_type": "code",
   "execution_count": null,
   "metadata": {},
   "outputs": [],
   "source": []
  }
 ],
 "metadata": {
  "kernelspec": {
   "display_name": "Python 3",
   "language": "python",
   "name": "python3"
  },
  "language_info": {
   "codemirror_mode": {
    "name": "ipython",
    "version": 3
   },
   "file_extension": ".py",
   "mimetype": "text/x-python",
   "name": "python",
   "nbconvert_exporter": "python",
   "pygments_lexer": "ipython3",
   "version": "3.8.5"
  }
 },
 "nbformat": 4,
 "nbformat_minor": 4
}
