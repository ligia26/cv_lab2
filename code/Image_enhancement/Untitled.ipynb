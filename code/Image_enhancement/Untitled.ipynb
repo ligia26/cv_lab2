{
 "cells": [
  {
   "cell_type": "code",
   "execution_count": 2,
   "metadata": {},
   "outputs": [],
   "source": [
    "from math import sqrt\n",
    "from scipy import signal\n",
    "import numpy as np\n",
    "\n",
    "def compute_gradient(image):\n",
    "    filter1 = np.array([[-1, 0, 1], [-2, 0, 2], [-1, 0, 1]])\n",
    "    filter2 = np.array([[1,2,1], [0,0,0], [-1,-2,-1]])\n",
    "    Gx = signal.convolve2d(image, filter1)\n",
    "    Gy = signal.convolve2d(image, filter2)\n",
    "    im_magnitude = sqrt(Gx**2+Gy**2)\n",
    "    im_direction = (np.tan(Gx/Gy))**(-1)                   \n",
    "    return Gx, Gy, im_magnitude,im_direction"
   ]
  },
  {
   "cell_type": "code",
   "execution_count": null,
   "metadata": {},
   "outputs": [],
   "source": []
  }
 ],
 "metadata": {
  "kernelspec": {
   "display_name": "Python 3",
   "language": "python",
   "name": "python3"
  },
  "language_info": {
   "codemirror_mode": {
    "name": "ipython",
    "version": 3
   },
   "file_extension": ".py",
   "mimetype": "text/x-python",
   "name": "python",
   "nbconvert_exporter": "python",
   "pygments_lexer": "ipython3",
   "version": "3.8.5"
  }
 },
 "nbformat": 4,
 "nbformat_minor": 4
}
