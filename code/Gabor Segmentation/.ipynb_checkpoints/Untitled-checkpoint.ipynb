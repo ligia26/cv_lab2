{
 "cells": [
  {
   "cell_type": "code",
   "execution_count": 85,
   "metadata": {},
   "outputs": [],
   "source": [
    "import numpy as np\n",
    "import matplotlib.pyplot as plt\n",
    "\n",
    "\n",
    "def createGabor( sigma, theta, lamda, psi, gamma ):\n",
    "#CREATEGABOR Creates a complex valued Gabor filter.\n",
    "#   myGabor = createGabor( sigma, theta, lamda, psi, gamma ) generates\n",
    "#   Gabor kernels.  \n",
    "#   - ARGUMENTS\n",
    "#     sigma      Standard deviation of Gaussian envelope.\n",
    "#     theta      Orientation of the Gaussian envelope. Takes arguments in\n",
    "#                the range [0, pi/2).\n",
    "#     lamda     The wavelength for the carriers. The central frequency \n",
    "#                (w_c) of the carrier signals.\n",
    "#     psi        Phase offset for the carrier signal, sin(w_c . t + psi).\n",
    "#     gamma      Controls the aspect ratio of the Gaussian envelope\n",
    "#   \n",
    "#   - OUTPUT\n",
    "#     myGabor    A matrix of size [h,w,2], holding the real and imaginary \n",
    "#                parts of the Gabor in myGabor(:,:,1) and myGabor(:,:,2),\n",
    "#                respectively.\n",
    "                \n",
    "    # Set the aspect ratio.\n",
    "    sigma_x = sigma\n",
    "    sigma_y = float(sigma)/gamma\n",
    "\n",
    "    # Generate a grid\n",
    "    nstds = 3\n",
    "    xmax = max(abs(nstds*sigma_x*np.cos(theta)),abs(nstds*sigma_y*np.sin(theta)))\n",
    "    xmax = np.ceil(max(1,xmax))\n",
    "    ymax = max(abs(nstds*sigma_x*np.sin(theta)),abs(nstds*sigma_y*np.cos(theta)))\n",
    "    ymax = np.ceil(max(1,ymax))\n",
    "\n",
    "    # Make sure that we get square filters. \n",
    "    xmax = max(xmax,ymax)\n",
    "    ymax = max(xmax,ymax)\n",
    "    xmin = -xmax \n",
    "    ymin = -ymax\n",
    "\n",
    "    # Generate a coordinate system in the range [xmin,xmax] and [ymin, ymax]. \n",
    "    [x,y] = np.meshgrid(np.arange(xmin, xmax+1), np.arange(ymin, ymax+1))\n",
    "\n",
    "    # Convert to a 2-by-N matrix where N is the number of pixels in the kernel.\n",
    "    XY = np.concatenate((x.reshape(1, -1), y.reshape(1, -1)), axis=0)\n",
    "\n",
    "    # Compute the rotation of pixels by theta.\n",
    "    # \\\\ Hint: Create appropriate rotation matrix to compute the rotated pixel coordinates: rot(theta) * XY.\n",
    "    cs, sn = np.cos(theta), np.sin(theta)\n",
    "   \n",
    "    rotMat = generateRotationMatrix(theta)\n",
    "    #print(rotMat.shape)\n",
    "    rot_XY = np.matmul(rotMat,XY)\n",
    "    rot_x = rot_XY[0,:]\n",
    "    rot_y = rot_XY[1,:]\n",
    "    #print(rot_x)\n",
    "\n",
    "    # Create the Gaussian envelope.\n",
    "    # \\\\ IMPLEMENT the helper function createGauss.\n",
    "    gaussianEnv = createGauss(rot_x, rot_y, gamma, sigma)\n",
    "\n",
    "    # Create the orthogonal carrier signals.\n",
    "    # \\\\ IMPLEMENT the helper functions createCos and createSin.\n",
    "    cosCarrier = createCos(rot_x, lamda, psi)\n",
    "    sinCarrier = createSin(rot_x, lamda, psi)\n",
    "\n",
    "    # Modulate (multiply) Gaussian envelope with the carriers to compute \n",
    "    # the real and imaginary components of the complex Gabor filter. \n",
    "    myGabor_real = gaussianEnv*cosCarrier  # \\\\TODO: modulate gaussianEnv with cosCarrier\n",
    "    myGabor_imaginary = gaussianEnv*sinCarrier  # \\\\TODO: modulate gaussianEnv with sinCarrier\n",
    "\n",
    "    # Pack myGabor_real and myGabor_imaginary into myGabor.\n",
    "    h, w = myGabor_real.shape\n",
    "    myGabor = np.zeros((h, w, 2))\n",
    "    myGabor[:,:,0] = myGabor_real\n",
    "    myGabor[:,:,1] = myGabor_imaginary\n",
    "\n",
    "    # Uncomment below lines from \"fig = plt.figure()\" to see how are the gabor filters\n",
    "    # figure\n",
    "    #subplot(121), imshow(myGabor_real,[])\n",
    "    #subplot(122), imshow(myGabor_imaginary, [])\n",
    "\n",
    "    fig = plt.figure()\n",
    "    ax = fig.add_subplot(1, 2, 1)\n",
    "    ax.imshow(myGabor_real)    # Real\n",
    "    ax.axis(\"off\")\n",
    "    ax = fig.add_subplot(1, 2, 2)\n",
    "    ax.imshow(myGabor_imaginary)    # Real\n",
    "    ax.axis(\"off\")\n",
    "    plt.show()\n",
    "    return myGabor\n",
    "\n",
    "\n",
    "# Helper Functions \n",
    "# ----------------------------------------------------------\n",
    "def generateRotationMatrix(theta):\n",
    "    # ----------------------------------------------------------\n",
    "    # Returns the rotation matrix. \n",
    "    # \\\\ Hint: https://en.wikipedia.org/wiki/Rotation_matrix \\\\\n",
    "    cs, sn = np.cos(theta), np.sin(theta)\n",
    "    rotMat = np.array(((cs, -sn), (sn, cs)))\n",
    "    #print(rotMat.shape)\n",
    "      # \\\\TODO: code the rotation matrix which fits gabor equation given theta. \n",
    "    return rotMat.transpose()\n",
    "\n",
    "# ----------------------------------------------------------\n",
    "def createCos(rot_x, lamda, psi):\n",
    "    # ----------------------------------------------------------\n",
    "    # Returns the 2D cosine carrier. \n",
    "    cosCarrier = np.cos(2*math.pi*rot_x/lamda + psi) # \\\\TODO: Implement the cosine given rot_x, lamda and psi.\n",
    "\n",
    "    # Reshape the vector representation to matrix.\n",
    "    cosCarrier = np.reshape(cosCarrier, (np.int32(np.sqrt(len(cosCarrier))), -1))\n",
    "    return cosCarrier\n",
    "\n",
    "# ----------------------------------------------------------\n",
    "def createSin(rot_x, lamda, psi):\n",
    "    # ----------------------------------------------------------\n",
    "    # Returns the 2D sine carrier. \n",
    "    sinCarrier = np.sin(2*math.pi*rot_x/lamda + psi)  # \\\\TODO: Implement the sine given rot_x, lamda and psi.\n",
    "\n",
    "    # Reshape the vector representation to matrix.\n",
    "    sinCarrier = np.reshape(sinCarrier, (np.int32(np.sqrt(len(sinCarrier))), -1))\n",
    "    return sinCarrier\n",
    "\n",
    "# ----------------------------------------------------------\n",
    "def createGauss(rot_x, rot_y, gamma, sigma):\n",
    "    # ----------------------------------------------------------\n",
    "    # Returns the 2D Gaussian Envelope. \n",
    "    gaussEnv = np.exp((-rot_x**2+gamma**2*rot_y**2)/2*sigma**2)  # \\\\TODO: Implement the Gaussian envelope.\n",
    "\n",
    "    # Reshape the vector representation to matrix.\n",
    "    gaussEnv = np.reshape(gaussEnv, (np.int32(np.sqrt(len(gaussEnv))), -1))\n",
    "    return gaussEnv"
   ]
  },
  {
   "cell_type": "code",
   "execution_count": 86,
   "metadata": {},
   "outputs": [
    {
     "data": {
      "image/png": "[encoded data removed]",
      "text/plain": [
       "<Figure size 432x288 with 1 Axes>"
      ]
     },
     "metadata": {
      "needs_background": "light"
     },
     "output_type": "display_data"
    },
    {
     "data": {
      "image/png": "[encoded data removed]",
      "text/plain": [
       "<Figure size 432x288 with 2 Axes>"
      ]
     },
     "metadata": {
      "needs_background": "light"
     },
     "output_type": "display_data"
    },
    {
     "data": {
      "image/png": "[encoded data removed]",
      "text/plain": [
       "<Figure size 432x288 with 2 Axes>"
      ]
     },
     "metadata": {
      "needs_background": "light"
     },
     "output_type": "display_data"
    },
    {
     "data": {
      "image/png": "[encoded data removed]",
      "text/plain": [
       "<Figure size 432x288 with 2 Axes>"
      ]
     },
     "metadata": {
      "needs_background": "light"
     },
     "output_type": "display_data"
    },
    {
     "data": {
      "image/png": "[encoded data removed]",
      "text/plain": [
       "<Figure size 432x288 with 2 Axes>"
      ]
     },
     "metadata": {
      "needs_background": "light"
     },
     "output_type": "display_data"
    },
    {
     "data": {
      "image/png": "[encoded data removed]",
      "text/plain": [
       "<Figure size 432x288 with 2 Axes>"
      ]
     },
     "metadata": {
      "needs_background": "light"
     },
     "output_type": "display_data"
    },
    {
     "data": {
      "image/png": "[encoded data removed]",
      "text/plain": [
       "<Figure size 432x288 with 2 Axes>"
      ]
     },
     "metadata": {
      "needs_background": "light"
     },
     "output_type": "display_data"
    },
    {
     "data": {
      "image/png": "[encoded data removed]",
      "text/plain": [
       "<Figure size 432x288 with 2 Axes>"
      ]
     },
     "metadata": {
      "needs_background": "light"
     },
     "output_type": "display_data"
    },
    {
     "data": {
      "image/png": "[encoded data removed]",
      "text/plain": [
       "<Figure size 432x288 with 2 Axes>"
      ]
     },
     "metadata": {
      "needs_background": "light"
     },
     "output_type": "display_data"
    },
    {
     "data": {
      "image/png": "[encoded data removed]",
      "text/plain": [
       "<Figure size 432x288 with 2 Axes>"
      ]
     },
     "metadata": {
      "needs_background": "light"
     },
     "output_type": "display_data"
    },
    {
     "data": {
      "image/png": "[encoded data removed]",
      "text/plain": [
       "<Figure size 432x288 with 2 Axes>"
      ]
     },
     "metadata": {
      "needs_background": "light"
     },
     "output_type": "display_data"
    },
    {
     "data": {
      "image/png": "[encoded data removed]",
      "text/plain": [
       "<Figure size 432x288 with 2 Axes>"
      ]
     },
     "metadata": {
      "needs_background": "light"
     },
     "output_type": "display_data"
    },
    {
     "data": {
      "image/png": "[encoded data removed]",
      "text/plain": [
       "<Figure size 432x288 with 2 Axes>"
      ]
     },
     "metadata": {
      "needs_background": "light"
     },
     "output_type": "display_data"
    },
    {
     "data": {
      "image/png": "[encoded data removed]",
      "text/plain": [
       "<Figure size 432x288 with 2 Axes>"
      ]
     },
     "metadata": {
      "needs_background": "light"
     },
     "output_type": "display_data"
    },
    {
     "data": {
      "image/png": "[encoded data removed]",
      "text/plain": [
       "<Figure size 432x288 with 2 Axes>"
      ]
     },
     "metadata": {
      "needs_background": "light"
     },
     "output_type": "display_data"
    },
    {
     "data": {
      "image/png": "[encoded data removed]",
      "text/plain": [
       "<Figure size 432x288 with 2 Axes>"
      ]
     },
     "metadata": {
      "needs_background": "light"
     },
     "output_type": "display_data"
    },
    {
     "data": {
      "image/png": "[encoded data removed]",
      "text/plain": [
       "<Figure size 432x288 with 2 Axes>"
      ]
     },
     "metadata": {
      "needs_background": "light"
     },
     "output_type": "display_data"
    },
    {
     "data": {
      "image/png": "[encoded data removed]",
      "text/plain": [
       "<Figure size 432x288 with 2 Axes>"
      ]
     },
     "metadata": {
      "needs_background": "light"
     },
     "output_type": "display_data"
    },
    {
     "data": {
      "image/png": "[encoded data removed]",
      "text/plain": [
       "<Figure size 432x288 with 2 Axes>"
      ]
     },
     "metadata": {
      "needs_background": "light"
     },
     "output_type": "display_data"
    },
    {
     "data": {
      "image/png": "[encoded data removed]",
      "text/plain": [
       "<Figure size 432x288 with 2 Axes>"
      ]
     },
     "metadata": {
      "needs_background": "light"
     },
     "output_type": "display_data"
    },
    {
     "data": {
      "image/png": "[encoded data removed]",
      "text/plain": [
       "<Figure size 432x288 with 2 Axes>"
      ]
     },
     "metadata": {
      "needs_background": "light"
     },
     "output_type": "display_data"
    },
    {
     "data": {
      "image/png": "[encoded data removed]",
      "text/plain": [
       "<Figure size 432x288 with 2 Axes>"
      ]
     },
     "metadata": {
      "needs_background": "light"
     },
     "output_type": "display_data"
    },
    {
     "data": {
      "image/png": "[encoded data removed]",
      "text/plain": [
       "<Figure size 432x288 with 2 Axes>"
      ]
     },
     "metadata": {
      "needs_background": "light"
     },
     "output_type": "display_data"
    },
    {
     "data": {
      "image/png": "[encoded data removed]",
      "text/plain": [
       "<Figure size 432x288 with 2 Axes>"
      ]
     },
     "metadata": {
      "needs_background": "light"
     },
     "output_type": "display_data"
    },
    {
     "data": {
      "image/png": "[encoded data removed]",
      "text/plain": [
       "<Figure size 432x288 with 2 Axes>"
      ]
     },
     "metadata": {
      "needs_background": "light"
     },
     "output_type": "display_data"
    },
    {
     "data": {
      "image/png": "[encoded data removed]",
      "text/plain": [
       "<Figure size 432x288 with 2 Axes>"
      ]
     },
     "metadata": {
      "needs_background": "light"
     },
     "output_type": "display_data"
    },
    {
     "data": {
      "image/png": "[encoded data removed]",
      "text/plain": [
       "<Figure size 432x288 with 2 Axes>"
      ]
     },
     "metadata": {
      "needs_background": "light"
     },
     "output_type": "display_data"
    },
    {
     "data": {
      "image/png": "[encoded data removed]",
      "text/plain": [
       "<Figure size 432x288 with 2 Axes>"
      ]
     },
     "metadata": {
      "needs_background": "light"
     },
     "output_type": "display_data"
    },
    {
     "data": {
      "image/png": "[encoded data removed]",
      "text/plain": [
       "<Figure size 432x288 with 2 Axes>"
      ]
     },
     "metadata": {
      "needs_background": "light"
     },
     "output_type": "display_data"
    },
    {
     "data": {
      "image/png": "[encoded data removed]",
      "text/plain": [
       "<Figure size 432x288 with 2 Axes>"
      ]
     },
     "metadata": {
      "needs_background": "light"
     },
     "output_type": "display_data"
    },
    {
     "data": {
      "image/png": "[encoded data removed]",
      "text/plain": [
       "<Figure size 432x288 with 2 Axes>"
      ]
     },
     "metadata": {
      "needs_background": "light"
     },
     "output_type": "display_data"
    },
    {
     "data": {
      "image/png": "[encoded data removed]",
      "text/plain": [
       "<Figure size 432x288 with 2 Axes>"
      ]
     },
     "metadata": {
      "needs_background": "light"
     },
     "output_type": "display_data"
    },
    {
     "data": {
      "image/png": "[encoded data removed]",
      "text/plain": [
       "<Figure size 432x288 with 2 Axes>"
      ]
     },
     "metadata": {
      "needs_background": "light"
     },
     "output_type": "display_data"
    },
    {
     "data": {
      "image/png": "[encoded data removed]",
      "text/plain": [
       "<Figure size 432x288 with 2 Axes>"
      ]
     },
     "metadata": {
      "needs_background": "light"
     },
     "output_type": "display_data"
    },
    {
     "data": {
      "image/png": "[encoded data removed]",
      "text/plain": [
       "<Figure size 432x288 with 2 Axes>"
      ]
     },
     "metadata": {
      "needs_background": "light"
     },
     "output_type": "display_data"
    },
    {
     "data": {
      "image/png": "[encoded data removed]",
      "text/plain": [
       "<Figure size 432x288 with 2 Axes>"
      ]
     },
     "metadata": {
      "needs_background": "light"
     },
     "output_type": "display_data"
    },
    {
     "data": {
      "image/png": "[encoded data removed]",
      "text/plain": [
       "<Figure size 432x288 with 2 Axes>"
      ]
     },
     "metadata": {
      "needs_background": "light"
     },
     "output_type": "display_data"
    },
    {
     "data": {
      "image/png": "[encoded data removed]",
      "text/plain": [
       "<Figure size 432x288 with 2 Axes>"
      ]
     },
     "metadata": {
      "needs_background": "light"
     },
     "output_type": "display_data"
    },
    {
     "data": {
      "image/png": "[encoded data removed]",
      "text/plain": [
       "<Figure size 432x288 with 2 Axes>"
      ]
     },
     "metadata": {
      "needs_background": "light"
     },
     "output_type": "display_data"
    },
    {
     "data": {
      "image/png": "[encoded data removed]",
      "text/plain": [
       "<Figure size 432x288 with 2 Axes>"
      ]
     },
     "metadata": {
      "needs_background": "light"
     },
     "output_type": "display_data"
    },
    {
     "data": {
      "image/png": "[encoded data removed]",
      "text/plain": [
       "<Figure size 432x288 with 2 Axes>"
      ]
     },
     "metadata": {
      "needs_background": "light"
     },
     "output_type": "display_data"
    },
    {
     "data": {
      "image/png": "[encoded data removed]",
      "text/plain": [
       "<Figure size 432x288 with 2 Axes>"
      ]
     },
     "metadata": {
      "needs_background": "light"
     },
     "output_type": "display_data"
    },
    {
     "data": {
      "image/png": "[encoded data removed]",
      "text/plain": [
       "<Figure size 432x288 with 2 Axes>"
      ]
     },
     "metadata": {
      "needs_background": "light"
     },
     "output_type": "display_data"
    },
    {
     "data": {
      "image/png": "[encoded data removed]",
      "text/plain": [
       "<Figure size 432x288 with 2 Axes>"
      ]
     },
     "metadata": {
      "needs_background": "light"
     },
     "output_type": "display_data"
    },
    {
     "data": {
      "image/png": "[encoded data removed]",
      "text/plain": [
       "<Figure size 432x288 with 2 Axes>"
      ]
     },
     "metadata": {
      "needs_background": "light"
     },
     "output_type": "display_data"
    },
    {
     "data": {
      "image/png": "[encoded data removed]",
      "text/plain": [
       "<Figure size 432x288 with 2 Axes>"
      ]
     },
     "metadata": {
      "needs_background": "light"
     },
     "output_type": "display_data"
    },
    {
     "data": {
      "image/png": "[encoded data removed]",
      "text/plain": [
       "<Figure size 432x288 with 2 Axes>"
      ]
     },
     "metadata": {
      "needs_background": "light"
     },
     "output_type": "display_data"
    },
    {
     "data": {
      "image/png": "[encoded data removed]",
      "text/plain": [
       "<Figure size 432x288 with 2 Axes>"
      ]
     },
     "metadata": {
      "needs_background": "light"
     },
     "output_type": "display_data"
    },
    {
     "data": {
      "image/png": "[encoded data removed]",
      "text/plain": [
       "<Figure size 432x288 with 2 Axes>"
      ]
     },
     "metadata": {
      "needs_background": "light"
     },
     "output_type": "display_data"
    },
    {
     "data": {
      "image/png": "[encoded data removed]",
      "text/plain": [
       "<Figure size 432x288 with 2 Axes>"
      ]
     },
     "metadata": {
      "needs_background": "light"
     },
     "output_type": "display_data"
    },
    {
     "data": {
      "image/png": "[encoded data removed]",
      "text/plain": [
       "<Figure size 432x288 with 2 Axes>"
      ]
     },
     "metadata": {
      "needs_background": "light"
     },
     "output_type": "display_data"
    },
    {
     "name": "stdout",
     "output_type": "stream",
     "text": [
      "--------------------------------------\n",
      " \t\tDetails\n",
      "--------------------------------------\n",
      "Total number of filters       : 50\n",
      "Number of scales (sigma)      : 2\n",
      "Number of orientations (theta): 5\n",
      "Number of carriers (lambda)   : 5\n",
      "---------------------------------------\n",
      "Filter bank created in 3.1064236164093018 seconds.\n",
      "---------------------------------------\n"
     ]
    }
   ],
   "source": [
    "import cv2\n",
    "import matplotlib.pyplot as plt\n",
    "import math\n",
    "import numpy as np\n",
    "import time\n",
    "from sklearn.decomposition import PCA\n",
    "\n",
    "\n",
    "\n",
    "# Hyperparameters\n",
    "k        = 2      # number of clusters in k-means algorithm. By default, \n",
    "                  # we consider k to be 2 in foreground-background segmentation task.\n",
    "image_id = 'Polar' # Identifier to switch between input images.\n",
    "                  # Possible ids: 'Kobi',    'Polar', 'Robin-1'\n",
    "                  #               'Robin-2', 'Cows', 'SciencePark'\n",
    "\n",
    "# Misc\n",
    "err_msg  = 'Image not available.'\n",
    "\n",
    "# Control settings\n",
    "visFlag       = False    #  Set to true to visualize filter responses.\n",
    "smoothingFlag = True   #  Set to true to postprocess filter outputs.\n",
    "\n",
    "# Read image : Please check that your path is correct\n",
    "if image_id == 'Kobi':\n",
    "  img = cv2.imread('./data/kobi.png')\n",
    "  img = cv2.cvtColor(img, cv2.COLOR_BGR2RGB)\n",
    "  resize_factor = 0.25\n",
    "elif image_id == 'Polar':\n",
    "  img = cv2.imread('./data/polar-bear-hiding.jpg')\n",
    "  img = cv2.cvtColor(img, cv2.COLOR_BGR2RGB)\n",
    "  resize_factor = 0.75\n",
    "elif image_id == 'Robin-1':\n",
    "  img = cv2.imread('./data/robin-1.jpg')\n",
    "  img = cv2.cvtColor(img, cv2.COLOR_BGR2RGB)\n",
    "  resize_factor = 1\n",
    "elif image_id == 'Robin-2':\n",
    "  img = cv2.imread('./data/robin-2.jpg')\n",
    "  img = cv2.cvtColor(img, cv2.COLOR_BGR2RGB)\n",
    "  resize_factor = 0.5\n",
    "elif image_id == 'Cows':\n",
    "  img = cv2.imread('./data/cows.jpg')\n",
    "  img = cv2.cvtColor(img, cv2.COLOR_BGR2RGB)\n",
    "  resize_factor = 0.5\n",
    "elif image_id == 'SciencePark':\n",
    "  img = cv2.imread('./data/sciencepark.jpg')\n",
    "  img = cv2.cvtColor(img, cv2.COLOR_BGR2RGB)\n",
    "  resize_factor = 0.2         \n",
    "else:\n",
    "  raise ValueError(err_msg)\n",
    "\n",
    "# Image adjustments\n",
    "img = cv2.resize(img, (0, 0), fx=resize_factor, fy=resize_factor)\n",
    "img = cv2.cvtColor(img, cv2.COLOR_RGB2GRAY)\n",
    "\n",
    "# Display image\n",
    "plt.figure()\n",
    "plt.title(f'Input image: {image_id}')\n",
    "plt.imshow(img, cmap='gray')\n",
    "plt.axis(\"off\")\n",
    "plt.show()\n",
    "\n",
    "# Design array of Gabor Filters\n",
    "# In this code section, you will create a Gabor Filterbank. A filterbank is\n",
    "# a collection of filters with varying properties (e.g. {shape, texture}).\n",
    "# A Gabor filterbank consists of Gabor filters of distinct orientations\n",
    "# and scales. We will use this bank to extract texture information from the\n",
    "# input image. \n",
    "\n",
    "numRows, numCols = img.shape\n",
    "\n",
    "# Estimate the minimum and maximum of the wavelengths for the sinusoidal\n",
    "# carriers. \n",
    "# ** This step is pretty much standard, therefore, you don't have to\n",
    "#    worry about it. It is cycles in pixels. **   \n",
    "lambdaMin = 4/np.sqrt(2)\n",
    "lambdaMax = np.sqrt(abs(numRows)**2 + abs(numCols)**2)\n",
    "\n",
    "# Specify the carrier wavelengths.  \n",
    "# (or the central frequency of the carrier signal, which is 1/lambda)\n",
    "n = np.floor(np.log2(lambdaMax/lambdaMin))\n",
    "lambdas = 2**np.arange(0, (n-2)+1) * lambdaMin\n",
    "\n",
    "# Define the set of orientations for the Gaussian envelope.\n",
    "dTheta       = 2 * np.pi/8                  # \\\\ the step size\n",
    "orientations = np.arange(0, np.pi+dTheta, dTheta)        \n",
    "\n",
    "\n",
    "# Define the set of sigmas for the Gaussian envelope. Sigma here defines \n",
    "# the standard deviation, or the spread of the Gaussian. \n",
    "sigmas = np.array([1,2])\n",
    "\n",
    "# Now you can create the filterbank. We provide you with a Python list\n",
    "# called gaborFilterBank in which we will hold the filters and their\n",
    "# corresponding parameters such as sigma, lambda and etc. \n",
    "# ** All you need to do is to implement createGabor(). Rest will be handled\n",
    "#    by the provided code block. **\n",
    "gaborFilterBank = []\n",
    "tic = time.time()\n",
    "for lmbda in lambdas:\n",
    "    for sigma in sigmas:\n",
    "        for theta in orientations:\n",
    "            #print(theta)\n",
    "            # Filter parameter configuration for this filter.\n",
    "            psi    = 0\n",
    "            gamma  = 0.5\n",
    "            \n",
    "            # Create a Gabor filter with the specs above. \n",
    "            # (We also record the settings in which they are created. )\n",
    "            # // TODO: Implement the function createGabor() following\n",
    "            #          the guidelines in the given function template.\n",
    "            #          ** See createGabor.py for instructions ** //\n",
    "            filter_config = {}\n",
    "            filter_config[\"filterPairs\"] = createGabor( sigma, theta, lmbda, psi, gamma )\n",
    "            filter_config[\"sigma\"]       = sigma\n",
    "            filter_config[\"lmbda\"]       = lmbda\n",
    "            filter_config[\"theta\"]       = theta\n",
    "            filter_config[\"psi\"]         = psi\n",
    "            filter_config[\"gamma\"]       = gamma\n",
    "            gaborFilterBank.append(filter_config)\n",
    "ctime = time.time() - tic\n",
    "\n",
    "print('--------------------------------------\\n \\t\\tDetails\\n--------------------------------------')\n",
    "print(f'Total number of filters       : {len(gaborFilterBank)}')\n",
    "print(f'Number of scales (sigma)      : {len(sigmas)}')\n",
    "print(f'Number of orientations (theta): {len(orientations)}')\n",
    "print(f'Number of carriers (lambda)   : {len(lambdas)}')\n",
    "print(f'---------------------------------------')\n",
    "print(f'Filter bank created in {ctime} seconds.')\n",
    "print(f'---------------------------------------')\n",
    "\n"
   ]
  },
  {
   "cell_type": "code",
   "execution_count": 36,
   "metadata": {},
   "outputs": [
    {
     "data": {
      "text/plain": [
       "array([[ 0.98006658,  0.19866933],\n",
       "       [-0.19866933,  0.98006658]])"
      ]
     },
     "execution_count": 36,
     "metadata": {},
     "output_type": "execute_result"
    }
   ],
   "source": [
    "generateRotationMatrix(0.2)"
   ]
  },
  {
   "cell_type": "code",
   "execution_count": 38,
   "metadata": {},
   "outputs": [
    {
     "name": "stdout",
     "output_type": "stream",
     "text": [
      "(2, 2)\n",
      "[[-6. -5. -4. -3. -2. -1.  0.  1.  2.  3.  4.  5.  6. -6. -5. -4. -3. -2.\n",
      "  -1.  0.  1.  2.  3.  4.  5.  6. -6. -5. -4. -3. -2. -1.  0.  1.  2.  3.\n",
      "   4.  5.  6. -6. -5. -4. -3. -2. -1.  0.  1.  2.  3.  4.  5.  6. -6. -5.\n",
      "  -4. -3. -2. -1.  0.  1.  2.  3.  4.  5.  6. -6. -5. -4. -3. -2. -1.  0.\n",
      "   1.  2.  3.  4.  5.  6. -6. -5. -4. -3. -2. -1.  0.  1.  2.  3.  4.  5.\n",
      "   6. -6. -5. -4. -3. -2. -1.  0.  1.  2.  3.  4.  5.  6. -6. -5. -4. -3.\n",
      "  -2. -1.  0.  1.  2.  3.  4.  5.  6. -6. -5. -4. -3. -2. -1.  0.  1.  2.\n",
      "   3.  4.  5.  6. -6. -5. -4. -3. -2. -1.  0.  1.  2.  3.  4.  5.  6. -6.\n",
      "  -5. -4. -3. -2. -1.  0.  1.  2.  3.  4.  5.  6. -6. -5. -4. -3. -2. -1.\n",
      "   0.  1.  2.  3.  4.  5.  6.]\n",
      " [-6. -6. -6. -6. -6. -6. -6. -6. -6. -6. -6. -6. -6. -5. -5. -5. -5. -5.\n",
      "  -5. -5. -5. -5. -5. -5. -5. -5. -4. -4. -4. -4. -4. -4. -4. -4. -4. -4.\n",
      "  -4. -4. -4. -3. -3. -3. -3. -3. -3. -3. -3. -3. -3. -3. -3. -3. -2. -2.\n",
      "  -2. -2. -2. -2. -2. -2. -2. -2. -2. -2. -2. -1. -1. -1. -1. -1. -1. -1.\n",
      "  -1. -1. -1. -1. -1. -1.  0.  0.  0.  0.  0.  0.  0.  0.  0.  0.  0.  0.\n",
      "   0.  1.  1.  1.  1.  1.  1.  1.  1.  1.  1.  1.  1.  1.  2.  2.  2.  2.\n",
      "   2.  2.  2.  2.  2.  2.  2.  2.  2.  3.  3.  3.  3.  3.  3.  3.  3.  3.\n",
      "   3.  3.  3.  3.  4.  4.  4.  4.  4.  4.  4.  4.  4.  4.  4.  4.  4.  5.\n",
      "   5.  5.  5.  5.  5.  5.  5.  5.  5.  5.  5.  5.  6.  6.  6.  6.  6.  6.\n",
      "   6.  6.  6.  6.  6.  6.  6.]]\n",
      "[[-7.07241545 -6.09234887 -5.1122823  -4.13221572 -3.15214914 -2.17208256\n",
      "  -1.19201598 -0.21194941  0.76811717  1.74818375  2.72825033  3.7083169\n",
      "   4.68838348 -6.87374612 -5.89367954 -4.91361297 -3.93354639 -2.95347981\n",
      "  -1.97341323 -0.99334665 -0.01328008  0.9667865   1.94685308  2.92691966\n",
      "   3.90698624  4.88705281 -6.67507679 -5.69501021 -4.71494363 -3.73487706\n",
      "  -2.75481048 -1.7747439  -0.79467732  0.18538925  1.16545583  2.14552241\n",
      "   3.12558899  4.10565557  5.08572214 -6.47640746 -5.49634088 -4.5162743\n",
      "  -3.53620773 -2.55614115 -1.57607457 -0.59600799  0.38405859  1.36412516\n",
      "   2.34419174  3.32425832  4.3043249   5.28439147 -6.27773813 -5.29767155\n",
      "  -4.31760497 -3.3375384  -2.35747182 -1.37740524 -0.39733866  0.58272792\n",
      "   1.56279449  2.54286107  3.52292765  4.50299423  5.48306081 -6.0790688\n",
      "  -5.09900222 -4.11893564 -3.13886906 -2.15880249 -1.17873591 -0.19866933\n",
      "   0.78139725  1.76146382  2.7415304   3.72159698  4.70166356  5.68173014\n",
      "  -5.88039947 -4.90033289 -3.92026631 -2.94019973 -1.96013316 -0.98006658\n",
      "   0.          0.98006658  1.96013316  2.94019973  3.92026631  4.90033289\n",
      "   5.88039947 -5.68173014 -4.70166356 -3.72159698 -2.7415304  -1.76146382\n",
      "  -0.78139725  0.19866933  1.17873591  2.15880249  3.13886906  4.11893564\n",
      "   5.09900222  6.0790688  -5.48306081 -4.50299423 -3.52292765 -2.54286107\n",
      "  -1.56279449 -0.58272792  0.39733866  1.37740524  2.35747182  3.3375384\n",
      "   4.31760497  5.29767155  6.27773813 -5.28439147 -4.3043249  -3.32425832\n",
      "  -2.34419174 -1.36412516 -0.38405859  0.59600799  1.57607457  2.55614115\n",
      "   3.53620773  4.5162743   5.49634088  6.47640746 -5.08572214 -4.10565557\n",
      "  -3.12558899 -2.14552241 -1.16545583 -0.18538925  0.79467732  1.7747439\n",
      "   2.75481048  3.73487706  4.71494363  5.69501021  6.67507679 -4.88705281\n",
      "  -3.90698624 -2.92691966 -1.94685308 -0.9667865   0.01328008  0.99334665\n",
      "   1.97341323  2.95347981  3.93354639  4.91361297  5.89367954  6.87374612\n",
      "  -4.68838348 -3.7083169  -2.72825033 -1.74818375 -0.76811717  0.21194941\n",
      "   1.19201598  2.17208256  3.15214914  4.13221572  5.1122823   6.09234887\n",
      "   7.07241545]\n",
      " [-4.68838348 -4.88705281 -5.08572214 -5.28439147 -5.48306081 -5.68173014\n",
      "  -5.88039947 -6.0790688  -6.27773813 -6.47640746 -6.67507679 -6.87374612\n",
      "  -7.07241545 -3.7083169  -3.90698624 -4.10565557 -4.3043249  -4.50299423\n",
      "  -4.70166356 -4.90033289 -5.09900222 -5.29767155 -5.49634088 -5.69501021\n",
      "  -5.89367954 -6.09234887 -2.72825033 -2.92691966 -3.12558899 -3.32425832\n",
      "  -3.52292765 -3.72159698 -3.92026631 -4.11893564 -4.31760497 -4.5162743\n",
      "  -4.71494363 -4.91361297 -5.1122823  -1.74818375 -1.94685308 -2.14552241\n",
      "  -2.34419174 -2.54286107 -2.7415304  -2.94019973 -3.13886906 -3.3375384\n",
      "  -3.53620773 -3.73487706 -3.93354639 -4.13221572 -0.76811717 -0.9667865\n",
      "  -1.16545583 -1.36412516 -1.56279449 -1.76146382 -1.96013316 -2.15880249\n",
      "  -2.35747182 -2.55614115 -2.75481048 -2.95347981 -3.15214914  0.21194941\n",
      "   0.01328008 -0.18538925 -0.38405859 -0.58272792 -0.78139725 -0.98006658\n",
      "  -1.17873591 -1.37740524 -1.57607457 -1.7747439  -1.97341323 -2.17208256\n",
      "   1.19201598  0.99334665  0.79467732  0.59600799  0.39733866  0.19866933\n",
      "   0.         -0.19866933 -0.39733866 -0.59600799 -0.79467732 -0.99334665\n",
      "  -1.19201598  2.17208256  1.97341323  1.7747439   1.57607457  1.37740524\n",
      "   1.17873591  0.98006658  0.78139725  0.58272792  0.38405859  0.18538925\n",
      "  -0.01328008 -0.21194941  3.15214914  2.95347981  2.75481048  2.55614115\n",
      "   2.35747182  2.15880249  1.96013316  1.76146382  1.56279449  1.36412516\n",
      "   1.16545583  0.9667865   0.76811717  4.13221572  3.93354639  3.73487706\n",
      "   3.53620773  3.3375384   3.13886906  2.94019973  2.7415304   2.54286107\n",
      "   2.34419174  2.14552241  1.94685308  1.74818375  5.1122823   4.91361297\n",
      "   4.71494363  4.5162743   4.31760497  4.11893564  3.92026631  3.72159698\n",
      "   3.52292765  3.32425832  3.12558899  2.92691966  2.72825033  6.09234887\n",
      "   5.89367954  5.69501021  5.49634088  5.29767155  5.09900222  4.90033289\n",
      "   4.70166356  4.50299423  4.3043249   4.10565557  3.90698624  3.7083169\n",
      "   7.07241545  6.87374612  6.67507679  6.47640746  6.27773813  6.0790688\n",
      "   5.88039947  5.68173014  5.48306081  5.28439147  5.08572214  4.88705281\n",
      "   4.68838348]]\n"
     ]
    }
   ],
   "source": [
    "sigma_x = sigma\n",
    "sigma_y = float(sigma)/gamma\n",
    "nstds = 3\n",
    "xmax = max(abs(nstds*sigma_x*np.cos(theta)),abs(nstds*sigma_y*np.sin(theta)))\n",
    "xmax = np.ceil(max(1,xmax))\n",
    "ymax = max(abs(nstds*sigma_x*np.sin(theta)),abs(nstds*sigma_y*np.cos(theta)))\n",
    "ymax = np.ceil(max(1,ymax))\n",
    "\n",
    "# Make sure that we get square filters. \n",
    "xmax = max(xmax,ymax)\n",
    "ymax = max(xmax,ymax)\n",
    "xmin = -xmax \n",
    "ymin = -ymax\n",
    "\n",
    "\n",
    "[x,y] = np.meshgrid(np.arange(xmin, xmax+1), np.arange(ymin, ymax+1))\n",
    "\n",
    "    # Convert to a 2-by-N matrix where N is the number of pixels in the kernel.\n",
    "XY = np.concatenate((x.reshape(1, -1), y.reshape(1, -1)), axis=0)\n",
    "rotMat = generateRotationMatrix(0.2)\n",
    "print(rotMat.shape)\n",
    "rot_XY = np.matmul(rotMat,XY)\n",
    "print(XY)\n",
    "rot_XY = np.matmul(rotMat,XY)\n",
    "print(rot_XY)"
   ]
  },
  {
   "cell_type": "code",
   "execution_count": 87,
   "metadata": {},
   "outputs": [
    {
     "data": {
      "image/png": "[encoded data removed]",
      "text/plain": [
       "<Figure size 432x288 with 2 Axes>"
      ]
     },
     "metadata": {
      "needs_background": "light"
     },
     "output_type": "display_data"
    },
    {
     "data": {
      "text/plain": [
       "array([[[ 5.63382239e+02,  7.12059202e+02],\n",
       "        [ 1.82882690e+01,  5.46388466e-01],\n",
       "        [ 4.72202324e-01, -5.28618349e-01],\n",
       "        [-7.49678854e-03, -5.22569578e-02],\n",
       "        [-6.41770764e-03, -3.99442627e-03],\n",
       "        [-1.97867401e-03,  6.44407018e-04],\n",
       "        [-4.12984519e-04,  1.02098296e-03]],\n",
       "\n",
       "       [[-4.53719034e+02,  1.58316105e+02],\n",
       "        [-7.33833759e+00,  1.92909446e+01],\n",
       "        [ 8.29125660e-01,  1.48899379e+00],\n",
       "        [ 2.65625578e-01,  5.14002100e-02],\n",
       "        [ 6.41842087e-02, -5.19491714e-02],\n",
       "        [ 9.10255222e-04, -4.84420765e-02],\n",
       "        [-4.11619768e-02, -3.59570913e-02]],\n",
       "\n",
       "       [[-2.76398376e-01, -1.32287791e+02],\n",
       "        [-9.28494354e+00, -7.77517350e+00],\n",
       "        [-2.09910107e+00,  3.69937497e-01],\n",
       "        [-3.61340900e-01,  6.24163324e-01],\n",
       "        [ 1.59464378e-01,  4.41232530e-01],\n",
       "        [ 5.50697705e-01,  2.02532038e-01],\n",
       "        [ 1.22492301e+00, -6.99971692e-01]],\n",
       "\n",
       "       [[ 1.79107073e+01,  6.16574523e+00],\n",
       "        [ 3.17014200e+00, -1.90042145e+00],\n",
       "        [ 2.19790300e-01, -1.36902348e+00],\n",
       "        [-6.53643621e-01, -7.56802495e-01],\n",
       "        [-1.38643417e+00,  1.82583829e-02],\n",
       "        [-2.34145340e+00,  2.85989475e+00],\n",
       "        [ 3.49412236e+00,  1.86172222e+01]],\n",
       "\n",
       "       [[-8.70749105e-01,  1.11004178e+00],\n",
       "        [ 1.20250207e-01,  5.74305734e-01],\n",
       "        [ 4.13334970e-01,  2.21966745e-01],\n",
       "        [ 6.70096245e-01, -2.66679815e-01],\n",
       "        [ 6.71419991e-01, -2.02293704e+00],\n",
       "        [-6.34147242e+00, -1.03174235e+01],\n",
       "        [-1.30839801e+02, -1.95213351e+01]],\n",
       "\n",
       "       [[-2.95853758e-02, -4.59556992e-02],\n",
       "        [-4.80590101e-02, -6.14775526e-03],\n",
       "        [-6.07351457e-02,  5.59425699e-02],\n",
       "        [ 1.22046910e-02,  2.70277589e-01],\n",
       "        [ 1.35251048e+00,  1.03695096e+00],\n",
       "        [ 2.01533835e+01, -4.45341172e+00],\n",
       "        [ 2.22647479e+02, -4.25855669e+02]],\n",
       "\n",
       "       [[ 1.07020717e-03, -2.60036585e-04],\n",
       "        [ 9.25446533e-04, -1.86385620e-03],\n",
       "        [-3.01814189e-03, -6.93060114e-03],\n",
       "        [-5.06100692e-02, -1.50203987e-02],\n",
       "        [-5.91698377e-01,  3.90263275e-01],\n",
       "        [-2.12036983e+00,  1.81731493e+01],\n",
       "        [ 6.22509509e+02,  6.60991502e+02]]])"
      ]
     },
     "execution_count": 87,
     "metadata": {},
     "output_type": "execute_result"
    }
   ],
   "source": [
    "createGabor(1,2,3,4,1)"
   ]
  },
  {
   "cell_type": "code",
   "execution_count": 95,
   "metadata": {},
   "outputs": [
    {
     "ename": "ValueError",
     "evalue": "all input arrays must have the same shape",
     "output_type": "error",
     "traceback": [
      "\u001b[0;31m---------------------------------------------------------------------------\u001b[0m",
      "\u001b[0;31mValueError\u001b[0m                                Traceback (most recent call last)",
      "\u001b[0;32m<ipython-input-95-53f2bd84f060>\u001b[0m in \u001b[0;36m<module>\u001b[0;34m\u001b[0m\n\u001b[1;32m     21\u001b[0m     \u001b[0;31m#print(real_out)\u001b[0m\u001b[0;34m\u001b[0m\u001b[0;34m\u001b[0m\u001b[0;34m\u001b[0m\u001b[0m\n\u001b[1;32m     22\u001b[0m     \u001b[0;31m#print(imag_out)\u001b[0m\u001b[0;34m\u001b[0m\u001b[0;34m\u001b[0m\u001b[0;34m\u001b[0m\u001b[0m\n\u001b[0;32m---> 23\u001b[0;31m     \u001b[0mfeatureMaps\u001b[0m\u001b[0;34m.\u001b[0m\u001b[0mappend\u001b[0m\u001b[0;34m(\u001b[0m\u001b[0mnp\u001b[0m\u001b[0;34m.\u001b[0m\u001b[0mstack\u001b[0m\u001b[0;34m(\u001b[0m\u001b[0;34m(\u001b[0m\u001b[0mreal_out\u001b[0m\u001b[0;34m,\u001b[0m \u001b[0mimag_out\u001b[0m\u001b[0;34m)\u001b[0m\u001b[0;34m,\u001b[0m \u001b[0;36m2\u001b[0m\u001b[0;34m)\u001b[0m\u001b[0;34m)\u001b[0m\u001b[0;34m\u001b[0m\u001b[0;34m\u001b[0m\u001b[0m\n\u001b[0m\u001b[1;32m     24\u001b[0m \u001b[0;34m\u001b[0m\u001b[0m\n\u001b[1;32m     25\u001b[0m     \u001b[0;31m# Visualize the filter responses if you wish.\u001b[0m\u001b[0;34m\u001b[0m\u001b[0;34m\u001b[0m\u001b[0;34m\u001b[0m\u001b[0m\n",
      "\u001b[0;32m<__array_function__ internals>\u001b[0m in \u001b[0;36mstack\u001b[0;34m(*args, **kwargs)\u001b[0m\n",
      "\u001b[0;32m/opt/anaconda3/lib/python3.8/site-packages/numpy/core/shape_base.py\u001b[0m in \u001b[0;36mstack\u001b[0;34m(arrays, axis, out)\u001b[0m\n\u001b[1;32m    425\u001b[0m     \u001b[0mshapes\u001b[0m \u001b[0;34m=\u001b[0m \u001b[0;34m{\u001b[0m\u001b[0marr\u001b[0m\u001b[0;34m.\u001b[0m\u001b[0mshape\u001b[0m \u001b[0;32mfor\u001b[0m \u001b[0marr\u001b[0m \u001b[0;32min\u001b[0m \u001b[0marrays\u001b[0m\u001b[0;34m}\u001b[0m\u001b[0;34m\u001b[0m\u001b[0;34m\u001b[0m\u001b[0m\n\u001b[1;32m    426\u001b[0m     \u001b[0;32mif\u001b[0m \u001b[0mlen\u001b[0m\u001b[0;34m(\u001b[0m\u001b[0mshapes\u001b[0m\u001b[0;34m)\u001b[0m \u001b[0;34m!=\u001b[0m \u001b[0;36m1\u001b[0m\u001b[0;34m:\u001b[0m\u001b[0;34m\u001b[0m\u001b[0;34m\u001b[0m\u001b[0m\n\u001b[0;32m--> 427\u001b[0;31m         \u001b[0;32mraise\u001b[0m \u001b[0mValueError\u001b[0m\u001b[0;34m(\u001b[0m\u001b[0;34m'all input arrays must have the same shape'\u001b[0m\u001b[0;34m)\u001b[0m\u001b[0;34m\u001b[0m\u001b[0;34m\u001b[0m\u001b[0m\n\u001b[0m\u001b[1;32m    428\u001b[0m \u001b[0;34m\u001b[0m\u001b[0m\n\u001b[1;32m    429\u001b[0m     \u001b[0mresult_ndim\u001b[0m \u001b[0;34m=\u001b[0m \u001b[0marrays\u001b[0m\u001b[0;34m[\u001b[0m\u001b[0;36m0\u001b[0m\u001b[0;34m]\u001b[0m\u001b[0;34m.\u001b[0m\u001b[0mndim\u001b[0m \u001b[0;34m+\u001b[0m \u001b[0;36m1\u001b[0m\u001b[0;34m\u001b[0m\u001b[0;34m\u001b[0m\u001b[0m\n",
      "\u001b[0;31mValueError\u001b[0m: all input arrays must have the same shape"
     ]
    }
   ],
   "source": [
    "\n",
    "# Filter images using Gabor filter bank using quadrature pairs (real and imaginary parts)\n",
    "# You will now filter the input image with each complex Gabor filter in \n",
    "# gaborFilterBank structure and store the output in the cell called \n",
    "# featureMaps. \n",
    "# // Hint-1: Apply both the real imaginary parts of each kernel \n",
    "#            separately in the spatial domain (i.e. over the image). //\n",
    "# // Hint-2: Assign each output (i.e. real and imaginary parts) in\n",
    "#            variables called real_out and imag_out. //\n",
    "# // Hint-3: Use built-in cv2 function, filter2D, to convolve the filter\n",
    "#            with the input image. Check the options for padding. Find \n",
    "#            the one that works well. You might want to\n",
    "#            explain what works better and why shortly in the report.\n",
    "featureMaps = []\n",
    "\n",
    "for gaborFilter in gaborFilterBank:\n",
    "    #print(gaborFilter)\n",
    "    # gaborFilter[\"filterPairs\"] has two elements. One is related to the real part \n",
    "    # of the Gabor Filter and the other one is the imagineray part.\n",
    "    real_out = gaborFilter[\"filterPairs\"][:,0]  # \\\\TODO: filter the grayscale input with real part of the Gabor\n",
    "    imag_out = gaborFilter[\"filterPairs\"][1,:]  # \\\\TODO: filter the grayscale input with imaginary part of the Gabor\n",
    "    #print(real_out)\n",
    "    #print(imag_out)\n",
    "    featureMaps.append(np.stack((real_out, imag_out), 2))\n",
    "    \n",
    "    # Visualize the filter responses if you wish.\n",
    "    if visFlag:\n",
    "        fig = plt.figure()\n",
    "\n",
    "        ax = fig.add_subplot(1, 2, 1)\n",
    "        ax.imshow(real_out)    # Real\n",
    "        title = \"Re[h(x,y)], \\n lambda = {0:.4f}, \\n theta = {1:.4f}, \\n sigma = {2:.4f}\".format(gaborFilter[\"lmbda\"], gaborFilter[\"theta\"], gaborFilter[\"sigma\"])\n",
    "        ax.set_title(title)\n",
    "        ax.axis(\"off\")\n",
    "\n",
    "        ax = fig.add_subplot(1, 2, 2)\n",
    "        ax.imshow(imag_out)    # Real\n",
    "        title = \"Im[h(x,y)], \\n lambda = {0:.4f}, \\n theta = {1:.4f}, \\n sigma = {2:.4f}\".format(gaborFilter[\"lmbda\"], gaborFilter[\"theta\"], gaborFilter[\"sigma\"])\n",
    "        ax.set_title(title)\n",
    "        ax.axis(\"off\")\n",
    "        plt.show()\n",
    "\n",
    "# Compute the magnitude\n",
    "# Now, you will compute the magnitude of the output responses.\n",
    "# \\\\ Hint: (real_part^2 + imaginary_part^2)^(1/2) \\\\\n",
    "featureMags = []\n",
    "for i, fm in enumerate(featureMaps):\n",
    "    real_part = fm[...,0]\n",
    "    imag_part = fm[...,1]\n",
    "    mag = None  # \\\\TODO: Compute the magnitude here\n",
    "    featureMags.append(mag)\n",
    "    \n",
    "    # Visualize the magnitude response if you wish.\n",
    "    if visFlag:\n",
    "        fig = plt.figure()\n",
    "\n",
    "        ax = fig.add_subplot(1, 1, 1)\n",
    "        ax.imshow(mag.astype(np.uint8))    # visualize magnitude\n",
    "        title = \"Re[h(x,y)], \\n lambda = {0:.4f}, \\n theta = {1:.4f}, \\n sigma = {2:.4f}\".format(gaborFilterBank[i][\"lmbda\"], \n",
    "                                                                                                 gaborFilterBank[i][\"theta\"], \n",
    "                                                                                                 gaborFilterBank[i][\"sigma\"])\n",
    "        ax.set_title(title)\n",
    "        ax.axis(\"off\")\n",
    "\n",
    "# Prepare and Preprocess features \n",
    "# You can think of each filter response as a sort of feature representation\n",
    "# for the pixels. Now that you have numFilters = |gaborFilterBank| filters, \n",
    "# we can represent each pixel by this many features. \n",
    "# \\\\ Q: What kind of features do you think gabor filters might correspond to? \n",
    "\n",
    "# You will now implement a smoothing operation over the magnitude images in\n",
    "# featureMags. \n",
    "# \\\\ Hint: For each i in [1, length(featureMags)], smooth featureMags{i}\n",
    "#          using an appropriate first order Gaussian kernel.\n",
    "# \\\\ Hint: cv2 filter2D function is helpful here.   \n",
    "features = np.zeros(shape=(numRows, numCols, len(featureMags)))\n",
    "if smoothingFlag:\n",
    "    pass\n",
    "    # \\\\TODO:\n",
    "    #FOR_LOOP\n",
    "        # i)  filter the magnitude response with appropriate Gaussian kernels\n",
    "        # ii) insert the smoothed image into features[:,:,j]\n",
    "    #END_FOR\n",
    "else:\n",
    "    # Don't smooth but just insert magnitude images into the matrix\n",
    "    # called features.\n",
    "    for i, fmag in enumerate(featureMags):\n",
    "        features[:,:,i] = fmag\n",
    "\n",
    "\n",
    "# Reshape the filter outputs (i.e. tensor called features) of size \n",
    "# [numRows, numCols, numFilters] into a matrix of size [numRows*numCols, numFilters]\n",
    "# This will constitute our data matrix which represents each pixel in the \n",
    "# input image with numFilters features.  \n",
    "features = np.reshape(features, newshape=(numRows * numCols, -1))\n",
    "\n",
    "\n",
    "# Standardize features. \n",
    "# \\\\ Hint: see http://ufldl.stanford.edu/wiki/index.php/Data_Preprocessing for more information.\n",
    "\n",
    "features = None  # \\\\ TODO: i)  Implement standardization on matrix called features.\n",
    "                 #          ii) Return the standardized data matrix.\n",
    "\n",
    "\n",
    "# (Optional) Visualize the saliency map using the first principal component \n",
    "# of the features matrix. It will be useful to diagnose possible problems \n",
    "# with the pipeline and filterbank.\n",
    "\n",
    "transformed_feature = PCA(n_components=1).fit_transform(features) # select the first component\n",
    "transformed_feature = np.ascontiguousarray(transformed_feature, dtype=np.float32)\n",
    "feature2DImage = np.reshape(transformed_feature,newshape=(numRows,numCols))\n",
    "plt.figure()\n",
    "plt.title(f'Pixel representation projected onto first PC')\n",
    "plt.imshow(feature2DImage, cmap='gray')\n",
    "plt.axis(\"off\") \n",
    "plt.show()\n",
    "\n",
    "# Apply k-means algorithm to cluster pixels using the data matrix,\n",
    "# features. \n",
    "# \\\\ Hint-1: search about sklearn kmeans function https://scikit-learn.org/stable/modules/generated/sklearn.cluster.KMeans.html.\n",
    "# \\\\ Hint-2: use the parameter k defined in the first section when calling\n",
    "#            sklearn's built-in kmeans function.\n",
    "tic = time.time()\n",
    "pixLabels = None  # \\\\TODO: Return cluster labels per pixel\n",
    "ctime = time.time() - tic\n",
    "print(f'Clustering completed in {ctime} seconds.')\n",
    "\n",
    "\n",
    "\n",
    "# Visualize the clustering by reshaping pixLabels into original grayscale\n",
    "# input size [numRows numCols].\n",
    "pixLabels = np.reshape(pixLabels, newshape=(numRows, numCols))\n",
    "plt.figure()\n",
    "plt.title(f'Pixel clusters')\n",
    "plt.imshow(pixLabels)\n",
    "plt.axis(\"off\") \n",
    "plt.show()\n",
    "\n",
    "\n",
    "# Use the pixLabels to visualize segmentation.\n",
    "Aseg1 = np.zeros_like(img)\n",
    "Aseg2 = np.zeros_like(img)\n",
    "BW = pixLabels == 2  # check for the value of your labels in pixLabels (could be 1 or 0 instead of 2)\n",
    "BW = np.repeat(BW[:, :, np.newaxis], 3, axis=2) # do this only if you have 3 channels in the img\n",
    "Aseg1[BW] = img[BW]\n",
    "Aseg2[~BW] = img[~BW]\n",
    "\n",
    "plt.figure()\n",
    "plt.title(f'montage')\n",
    "plt.imshow(Aseg1, 'gray', interpolation='none')\n",
    "plt.imshow(Aseg2, 'jet',  interpolation='none', alpha=0.7)\n",
    "plt.axis(\"off\")\n",
    "plt.show()\n",
    "\n",
    "\n"
   ]
  },
  {
   "cell_type": "code",
   "execution_count": null,
   "metadata": {},
   "outputs": [],
   "source": []
  }
 ],
 "metadata": {
  "kernelspec": {
   "display_name": "Python 3",
   "language": "python",
   "name": "python3"
  },
  "language_info": {
   "codemirror_mode": {
    "name": "ipython",
    "version": 3
   },
   "file_extension": ".py",
   "mimetype": "text/x-python",
   "name": "python",
   "nbconvert_exporter": "python",
   "pygments_lexer": "ipython3",
   "version": "3.8.5"
  }
 },
 "nbformat": 4,
 "nbformat_minor": 4
}
